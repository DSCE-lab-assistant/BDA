{
  "nbformat": 4,
  "nbformat_minor": 0,
  "metadata": {
    "colab": {
      "provenance": []
    },
    "kernelspec": {
      "name": "python3",
      "display_name": "Python 3"
    },
    "language_info": {
      "name": "python"
    }
  },
  "cells": [
    {
      "cell_type": "code",
      "source": [
        "!pip install pyspark"
      ],
      "metadata": {
        "colab": {
          "base_uri": "https://localhost:8080/"
        },
        "id": "TqRY0_yLiBb_",
        "outputId": "ab74e5aa-d867-4842-8e0a-e66eb73e126f"
      },
      "execution_count": 3,
      "outputs": [
        {
          "output_type": "stream",
          "name": "stdout",
          "text": [
            "Collecting pyspark\n",
            "  Downloading pyspark-3.5.1.tar.gz (317.0 MB)\n",
            "\u001b[2K     \u001b[90m━━━━━━━━━━━━━━━━━━━━━━━━━━━━━━━━━━━━━━━━\u001b[0m \u001b[32m317.0/317.0 MB\u001b[0m \u001b[31m4.5 MB/s\u001b[0m eta \u001b[36m0:00:00\u001b[0m\n",
            "\u001b[?25h  Preparing metadata (setup.py) ... \u001b[?25l\u001b[?25hdone\n",
            "Requirement already satisfied: py4j==0.10.9.7 in /usr/local/lib/python3.10/dist-packages (from pyspark) (0.10.9.7)\n",
            "Building wheels for collected packages: pyspark\n",
            "  Building wheel for pyspark (setup.py) ... \u001b[?25l\u001b[?25hdone\n",
            "  Created wheel for pyspark: filename=pyspark-3.5.1-py2.py3-none-any.whl size=317488491 sha256=7f5a3a1571d8377140a18ac7579fd89f25dd44db04c10e730f98dc15c0e79101\n",
            "  Stored in directory: /root/.cache/pip/wheels/80/1d/60/2c256ed38dddce2fdd93be545214a63e02fbd8d74fb0b7f3a6\n",
            "Successfully built pyspark\n",
            "Installing collected packages: pyspark\n",
            "Successfully installed pyspark-3.5.1\n"
          ]
        }
      ]
    },
    {
      "cell_type": "code",
      "execution_count": 4,
      "metadata": {
        "id": "bCQ-zpjWfhM6"
      },
      "outputs": [],
      "source": [
        "from pyspark.sql import SparkSession\n"
      ]
    },
    {
      "cell_type": "code",
      "source": [
        "spark = SparkSession.builder.appName(\"MovieRatingsAnalysis\").getOrCreate()"
      ],
      "metadata": {
        "id": "fOOlzkpfgkbC"
      },
      "execution_count": 5,
      "outputs": []
    },
    {
      "cell_type": "code",
      "source": [
        "movies_df = spark.read.csv(\"/content/movies.csv\",\n",
        "header=True, inferSchema=True)\n",
        "ratings_df = spark.read.csv(\"/content/ratings.csv\",\n",
        "header=True, inferSchema=True)"
      ],
      "metadata": {
        "id": "gNaIbHkZg5JY"
      },
      "execution_count": 6,
      "outputs": []
    },
    {
      "cell_type": "code",
      "source": [
        "movies_rdd = movies_df.rdd\n",
        "ratings_rdd = ratings_df.rdd"
      ],
      "metadata": {
        "id": "G5CyeAPFhqv5"
      },
      "execution_count": 21,
      "outputs": []
    },
    {
      "cell_type": "markdown",
      "source": [
        "#a) Find the Movie with the Lowest Average Rating Using RDD."
      ],
      "metadata": {
        "id": "hMTjeiYeiku4"
      }
    },
    {
      "cell_type": "code",
      "source": [
        "avg_ratings_rdd = ratings_rdd.map(lambda x: (x['movieId'], (x['rating'], 1))) \\\n",
        " .reduceByKey(lambda x, y: (x[0] + y[0], x[1] + y[1])) \\\n",
        " .mapValues(lambda x: x[0] / x[1])"
      ],
      "metadata": {
        "id": "ZsmenFgwh0QC"
      },
      "execution_count": 8,
      "outputs": []
    },
    {
      "cell_type": "code",
      "source": [
        "lowest_avg_rating = avg_ratings_rdd.sortBy(lambda x: x[1]).first()\n",
        "print(f\"Movie with the lowest average rating: {lowest_avg_rating}\")\n"
      ],
      "metadata": {
        "colab": {
          "base_uri": "https://localhost:8080/"
        },
        "id": "00RoX2k2h3se",
        "outputId": "c687f34d-d477-437f-b546-5a8c69ec9b54"
      },
      "execution_count": 9,
      "outputs": [
        {
          "output_type": "stream",
          "name": "stdout",
          "text": [
            "Movie with the lowest average rating: (97024, 0.5)\n"
          ]
        }
      ]
    },
    {
      "cell_type": "markdown",
      "source": [
        "#b) Identify Users Who Have Rated the Most Movies."
      ],
      "metadata": {
        "id": "xGGnx8CeiuDV"
      }
    },
    {
      "cell_type": "code",
      "source": [
        "user_ratings_count = ratings_rdd.map(lambda x: (x['userId'], 1)) \\\n",
        " .reduceByKey(lambda x, y: x + y) \\\n",
        " .sortBy(lambda x: x[1], ascending=False)"
      ],
      "metadata": {
        "id": "y4UM5Ds4izav"
      },
      "execution_count": 10,
      "outputs": []
    },
    {
      "cell_type": "code",
      "source": [
        "top_users = user_ratings_count.take(10)\n",
        "print(f\"Top users by number of ratings: {top_users}\")"
      ],
      "metadata": {
        "colab": {
          "base_uri": "https://localhost:8080/"
        },
        "id": "cP6WzVawi2cl",
        "outputId": "beafa922-1402-4500-8d7f-03839261c5f0"
      },
      "execution_count": 11,
      "outputs": [
        {
          "output_type": "stream",
          "name": "stdout",
          "text": [
            "Top users by number of ratings: [(414, 2698), (599, 2478), (474, 2108), (448, 1864), (274, 1346), (610, 1302), (68, 1260), (380, 1218), (606, 1115), (288, 1055)]\n"
          ]
        }
      ]
    },
    {
      "cell_type": "markdown",
      "source": [
        "#c) Explore the Distribution of Ratings Over Time."
      ],
      "metadata": {
        "id": "e3Qkw8QSi5sR"
      }
    },
    {
      "cell_type": "code",
      "source": [
        "from pyspark.sql.functions import from_unixtime, year, month"
      ],
      "metadata": {
        "id": "O8wERcmIi8Gz"
      },
      "execution_count": 12,
      "outputs": []
    },
    {
      "cell_type": "code",
      "source": [
        "ratings_df = ratings_df.withColumn(\"year\", year(from_unixtime(ratings_df['timestamp']))) \\\n",
        " .withColumn(\"month\", month(from_unixtime(ratings_df['timestamp'])))"
      ],
      "metadata": {
        "id": "p7J2HD0EjC-6"
      },
      "execution_count": 13,
      "outputs": []
    },
    {
      "cell_type": "code",
      "source": [
        "ratings_over_time = ratings_df.groupBy(\"year\", \"month\").count().orderBy(\"year\", \"month\")"
      ],
      "metadata": {
        "id": "OuMirODWjKEQ"
      },
      "execution_count": 14,
      "outputs": []
    },
    {
      "cell_type": "code",
      "source": [
        "ratings_over_time.show()"
      ],
      "metadata": {
        "colab": {
          "base_uri": "https://localhost:8080/"
        },
        "id": "m59EVG3JjODr",
        "outputId": "3cca7be4-ec88-4221-c69a-68eefcc86d84"
      },
      "execution_count": 15,
      "outputs": [
        {
          "output_type": "stream",
          "name": "stdout",
          "text": [
            "+----+-----+-----+\n",
            "|year|month|count|\n",
            "+----+-----+-----+\n",
            "|1996|    3|   58|\n",
            "|1996|    4|  165|\n",
            "|1996|    5|  832|\n",
            "|1996|    6|  883|\n",
            "|1996|    7|  489|\n",
            "|1996|    8| 1010|\n",
            "|1996|    9|  384|\n",
            "|1996|   10|  935|\n",
            "|1996|   11|  978|\n",
            "|1996|   12|  306|\n",
            "|1997|    1|  250|\n",
            "|1997|    2|  323|\n",
            "|1997|    3|  398|\n",
            "|1997|    4|  219|\n",
            "|1997|    5|  303|\n",
            "|1997|    6|   84|\n",
            "|1997|    7|   70|\n",
            "|1997|    9|  236|\n",
            "|1997|   10|    1|\n",
            "|1997|   11|    4|\n",
            "+----+-----+-----+\n",
            "only showing top 20 rows\n",
            "\n"
          ]
        }
      ]
    },
    {
      "cell_type": "markdown",
      "source": [
        "#d) Find the Highest-Rated Movies with a Minimum Number of Ratings."
      ],
      "metadata": {
        "id": "hyQXgtS7jO7L"
      }
    },
    {
      "cell_type": "code",
      "source": [
        "movie_ratings_stats = ratings_rdd.map(lambda x: (x['movieId'], (x['rating'], 1))) \\\n",
        " .reduceByKey(lambda x, y: (x[0] + y[0], x[1] + y[1])) \\\n",
        " .mapValues(lambda x: (x[0] / x[1], x[1])) # (avg_rating, count)"
      ],
      "metadata": {
        "id": "qHq_pT6YjRqy"
      },
      "execution_count": 16,
      "outputs": []
    },
    {
      "cell_type": "code",
      "source": [
        "min_ratings = 100\n",
        "qualified_movies = movie_ratings_stats.filter(lambda x: x[1][1] >= min_ratings)"
      ],
      "metadata": {
        "id": "e1rlyLcXjUpt"
      },
      "execution_count": 17,
      "outputs": []
    },
    {
      "cell_type": "code",
      "source": [
        "highest_rated_movies = qualified_movies.sortBy(lambda x: x[1][0], ascending=False).take(10)\n",
        "print(f\"Highest-rated movies with at least {min_ratings} ratings: {highest_rated_movies}\")"
      ],
      "metadata": {
        "colab": {
          "base_uri": "https://localhost:8080/"
        },
        "id": "cT21ICXtjXcC",
        "outputId": "b607b623-5952-450c-de9e-eed0b32de1fc"
      },
      "execution_count": 18,
      "outputs": [
        {
          "output_type": "stream",
          "name": "stdout",
          "text": [
            "Highest-rated movies with at least 100 ratings: [(318, (4.429022082018927, 317)), (858, (4.2890625, 192)), (2959, (4.272935779816514, 218)), (1221, (4.25968992248062, 129)), (48516, (4.252336448598131, 107)), (1213, (4.25, 126)), (912, (4.24, 100)), (58559, (4.238255033557047, 149)), (50, (4.237745098039215, 204)), (1197, (4.232394366197183, 142))]\n"
          ]
        }
      ]
    }
  ]
}